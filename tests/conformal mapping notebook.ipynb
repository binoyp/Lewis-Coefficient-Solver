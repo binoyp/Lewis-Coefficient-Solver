{
 "cells": [
  {
   "cell_type": "code",
   "execution_count": 85,
   "metadata": {},
   "outputs": [],
   "source": [
    "import sympy as sp\n",
    "from sympy import cos, sin"
   ]
  },
  {
   "cell_type": "code",
   "execution_count": 3,
   "metadata": {},
   "outputs": [],
   "source": [
    "sp.init_printing()\n"
   ]
  },
  {
   "cell_type": "code",
   "execution_count": 55,
   "metadata": {},
   "outputs": [],
   "source": []
  },
  {
   "cell_type": "code",
   "execution_count": 70,
   "metadata": {},
   "outputs": [],
   "source": [
    "i, N, j, p, P = sp.symbols('i N j p P', integer=True)\n",
    "a = sp.IndexedBase('a')\n",
    "phi = sp.IndexedBase('\\phi')\n",
    "x = sp.IndexedBase('x')\n",
    "y = sp.IndexedBase('y')"
   ]
  },
  {
   "cell_type": "code",
   "execution_count": 50,
   "metadata": {},
   "outputs": [
    {
     "data": {
      "image/png": "[encoded data removed]",
      "text/latex": [
       "$$\\sum_{n=1}^{3} \\cos{\\left (\\phi_p \\left(- 2 n + 3\\right) \\right )} a_{n}$$"
      ],
      "text/plain": [
       "  3                             \n",
       " ___                            \n",
       " ╲                              \n",
       "  ╲   cos(\\phiₚ⋅(-2⋅n + 3))⋅a[n]\n",
       "  ╱                             \n",
       " ╱                              \n",
       " ‾‾‾                            \n",
       "n = 1                           "
      ]
     },
     "execution_count": 50,
     "metadata": {},
     "output_type": "execute_result"
    }
   ],
   "source": [
    "xp = sp.Sum(a[n]*sp.cos((3-2*n)*phip),(n,1,3))\n",
    "xp"
   ]
  },
  {
   "cell_type": "code",
   "execution_count": 51,
   "metadata": {},
   "outputs": [
    {
     "data": {
      "image/png": "[encoded data removed]",
      "text/latex": [
       "$$\\sum_{n=1}^{3} \\sin{\\left (\\phi_p \\left(- 2 n + 3\\right) \\right )} a_{n}$$"
      ],
      "text/plain": [
       "  3                             \n",
       " ___                            \n",
       " ╲                              \n",
       "  ╲   sin(\\phiₚ⋅(-2⋅n + 3))⋅a[n]\n",
       "  ╱                             \n",
       " ╱                              \n",
       " ‾‾‾                            \n",
       "n = 1                           "
      ]
     },
     "execution_count": 51,
     "metadata": {},
     "output_type": "execute_result"
    }
   ],
   "source": [
    "yp = sp.Sum(a[n]*sp.sin((3-2*n)*phip),(n,1,3))\n",
    "yp"
   ]
  },
  {
   "cell_type": "code",
   "execution_count": 52,
   "metadata": {},
   "outputs": [
    {
     "data": {
      "image/png": "[encoded data removed]",
      "text/latex": [
       "$$\\sin{\\left (\\phi_p \\right )} a_{1} - \\sin{\\left (\\phi_p \\right )} a_{2} - \\sin{\\left (3 \\phi_p \\right )} a_{3}$$"
      ],
      "text/plain": [
       "sin(\\phiₚ)⋅a[1] - sin(\\phiₚ)⋅a[2] - sin(3⋅\\phiₚ)⋅a[3]"
      ]
     },
     "execution_count": 52,
     "metadata": {},
     "output_type": "execute_result"
    }
   ],
   "source": [
    "yp.doit()"
   ]
  },
  {
   "cell_type": "code",
   "execution_count": 53,
   "metadata": {},
   "outputs": [
    {
     "data": {
      "image/png": "[encoded data removed]",
      "text/latex": [
       "$$\\cos{\\left (\\phi_p \\right )} a_{1} + \\cos{\\left (\\phi_p \\right )} a_{2} + \\cos{\\left (3 \\phi_p \\right )} a_{3}$$"
      ],
      "text/plain": [
       "cos(\\phiₚ)⋅a[1] + cos(\\phiₚ)⋅a[2] + cos(3⋅\\phiₚ)⋅a[3]"
      ]
     },
     "execution_count": 53,
     "metadata": {},
     "output_type": "execute_result"
    }
   ],
   "source": [
    "xp.doit()"
   ]
  },
  {
   "cell_type": "markdown",
   "metadata": {},
   "source": [
    "$$\n",
    "ea(a_i,\\phi_i)=\\frac{\\partial E}{\\partial a_i}\n",
    "$$"
   ]
  },
  {
   "cell_type": "code",
   "execution_count": 68,
   "metadata": {},
   "outputs": [
    {
     "data": {
      "image/png": "[encoded data removed]",
      "text/latex": [
       "$$\\cos{\\left (\\phi_{1} \\right )} x_{1} + \\cos{\\left (\\phi_{1} \\right )} y_{1} + \\cos{\\left (\\phi_{2} \\right )} x_{2} + \\cos{\\left (\\phi_{2} \\right )} y_{2} + \\cos{\\left (\\phi_{3} \\right )} x_{3} + \\cos{\\left (\\phi_{3} \\right )} y_{3} + \\cos{\\left (\\phi_{4} \\right )} x_{4} + \\cos{\\left (\\phi_{4} \\right )} y_{4} + \\cos{\\left (\\phi_{5} \\right )} x_{5} + \\cos{\\left (\\phi_{5} \\right )} y_{5}$$"
      ],
      "text/plain": [
       "cos(\\phi[1])⋅x[1] + cos(\\phi[1])⋅y[1] + cos(\\phi[2])⋅x[2] + cos(\\phi[2])⋅y[2] \n",
       "+ cos(\\phi[3])⋅x[3] + cos(\\phi[3])⋅y[3] + cos(\\phi[4])⋅x[4] + cos(\\phi[4])⋅y[4\n",
       "] + cos(\\phi[5])⋅x[5] + cos(\\phi[5])⋅y[5]"
      ]
     },
     "execution_count": 68,
     "metadata": {},
     "output_type": "execute_result"
    }
   ],
   "source": [
    "ea_rhs = sp.Sum((x[p]*sp.cos((3-2*j)*phi[p])) \\\n",
    "             + (y[p]*sp.cos((3-2*j)*phi[p])),(p,1,5) )\n",
    "ear1 = ea_rhs.doit()\n",
    "ear1.subs(j, 2)"
   ]
  },
  {
   "cell_type": "code",
   "execution_count": 64,
   "metadata": {},
   "outputs": [],
   "source": [
    "del ea1"
   ]
  },
  {
   "cell_type": "code",
   "execution_count": 103,
   "metadata": {},
   "outputs": [
    {
     "data": {
      "image/png": "[encoded data removed]",
      "text/latex": [
       "$$\\sum_{n=1}^{10} \\cos{\\left (\\left(2 j - 2 n\\right) \\phi_{p} \\right )} a_{n}$$"
      ],
      "text/plain": [
       "  10                               \n",
       " ___                               \n",
       " ╲                                 \n",
       "  ╲   cos((2⋅j - 2⋅n)⋅\\phi[p])⋅a[n]\n",
       "  ╱                                \n",
       " ╱                                 \n",
       " ‾‾‾                               \n",
       "n = 1                              "
      ]
     },
     "execution_count": 103,
     "metadata": {},
     "output_type": "execute_result"
    }
   ],
   "source": [
    "ea_lhs0 = sp.Sum(a[n]*sp.cos(2*(j - n)*phi[p]),(n,1, 10))\n",
    "ea_lhs0"
   ]
  },
  {
   "cell_type": "code",
   "execution_count": 104,
   "metadata": {},
   "outputs": [
    {
     "data": {
      "image/png": "[encoded data removed]",
      "text/latex": [
       "$$\\left(\\cos{\\left (\\left(2 j - 8\\right) \\phi_{1} \\right )} + \\cos{\\left (\\left(2 j - 8\\right) \\phi_{2} \\right )} + \\cos{\\left (\\left(2 j - 8\\right) \\phi_{3} \\right )} + \\cos{\\left (\\left(2 j - 8\\right) \\phi_{4} \\right )} + \\cos{\\left (\\left(2 j - 8\\right) \\phi_{5} \\right )} + \\cos{\\left (\\left(2 j - 8\\right) \\phi_{6} \\right )} + \\cos{\\left (\\left(2 j - 8\\right) \\phi_{7} \\right )} + \\cos{\\left (\\left(2 j - 8\\right) \\phi_{8} \\right )}\\right) a_{4} + \\left(\\cos{\\left (\\left(2 j - 6\\right) \\phi_{1} \\right )} + \\cos{\\left (\\left(2 j - 6\\right) \\phi_{2} \\right )} + \\cos{\\left (\\left(2 j - 6\\right) \\phi_{3} \\right )} + \\cos{\\left (\\left(2 j - 6\\right) \\phi_{4} \\right )} + \\cos{\\left (\\left(2 j - 6\\right) \\phi_{5} \\right )} + \\cos{\\left (\\left(2 j - 6\\right) \\phi_{6} \\right )} + \\cos{\\left (\\left(2 j - 6\\right) \\phi_{7} \\right )} + \\cos{\\left (\\left(2 j - 6\\right) \\phi_{8} \\right )}\\right) a_{3} + \\left(\\cos{\\left (\\left(2 j - 4\\right) \\phi_{1} \\right )} + \\cos{\\left (\\left(2 j - 4\\right) \\phi_{2} \\right )} + \\cos{\\left (\\left(2 j - 4\\right) \\phi_{3} \\right )} + \\cos{\\left (\\left(2 j - 4\\right) \\phi_{4} \\right )} + \\cos{\\left (\\left(2 j - 4\\right) \\phi_{5} \\right )} + \\cos{\\left (\\left(2 j - 4\\right) \\phi_{6} \\right )} + \\cos{\\left (\\left(2 j - 4\\right) \\phi_{7} \\right )} + \\cos{\\left (\\left(2 j - 4\\right) \\phi_{8} \\right )}\\right) a_{2} + \\left(\\cos{\\left (\\left(2 j - 2\\right) \\phi_{1} \\right )} + \\cos{\\left (\\left(2 j - 2\\right) \\phi_{2} \\right )} + \\cos{\\left (\\left(2 j - 2\\right) \\phi_{3} \\right )} + \\cos{\\left (\\left(2 j - 2\\right) \\phi_{4} \\right )} + \\cos{\\left (\\left(2 j - 2\\right) \\phi_{5} \\right )} + \\cos{\\left (\\left(2 j - 2\\right) \\phi_{6} \\right )} + \\cos{\\left (\\left(2 j - 2\\right) \\phi_{7} \\right )} + \\cos{\\left (\\left(2 j - 2\\right) \\phi_{8} \\right )}\\right) a_{1} + \\cos{\\left (\\left(2 j - 20\\right) \\phi_{1} \\right )} a_{10} + \\cos{\\left (\\left(2 j - 20\\right) \\phi_{2} \\right )} a_{10} + \\cos{\\left (\\left(2 j - 20\\right) \\phi_{3} \\right )} a_{10} + \\cos{\\left (\\left(2 j - 20\\right) \\phi_{4} \\right )} a_{10} + \\cos{\\left (\\left(2 j - 20\\right) \\phi_{5} \\right )} a_{10} + \\cos{\\left (\\left(2 j - 20\\right) \\phi_{6} \\right )} a_{10} + \\cos{\\left (\\left(2 j - 20\\right) \\phi_{7} \\right )} a_{10} + \\cos{\\left (\\left(2 j - 20\\right) \\phi_{8} \\right )} a_{10} + \\cos{\\left (\\left(2 j - 18\\right) \\phi_{1} \\right )} a_{9} + \\cos{\\left (\\left(2 j - 18\\right) \\phi_{2} \\right )} a_{9} + \\cos{\\left (\\left(2 j - 18\\right) \\phi_{3} \\right )} a_{9} + \\cos{\\left (\\left(2 j - 18\\right) \\phi_{4} \\right )} a_{9} + \\cos{\\left (\\left(2 j - 18\\right) \\phi_{5} \\right )} a_{9} + \\cos{\\left (\\left(2 j - 18\\right) \\phi_{6} \\right )} a_{9} + \\cos{\\left (\\left(2 j - 18\\right) \\phi_{7} \\right )} a_{9} + \\cos{\\left (\\left(2 j - 18\\right) \\phi_{8} \\right )} a_{9} + \\cos{\\left (\\left(2 j - 16\\right) \\phi_{1} \\right )} a_{8} + \\cos{\\left (\\left(2 j - 16\\right) \\phi_{2} \\right )} a_{8} + \\cos{\\left (\\left(2 j - 16\\right) \\phi_{3} \\right )} a_{8} + \\cos{\\left (\\left(2 j - 16\\right) \\phi_{4} \\right )} a_{8} + \\cos{\\left (\\left(2 j - 16\\right) \\phi_{5} \\right )} a_{8} + \\cos{\\left (\\left(2 j - 16\\right) \\phi_{6} \\right )} a_{8} + \\cos{\\left (\\left(2 j - 16\\right) \\phi_{7} \\right )} a_{8} + \\cos{\\left (\\left(2 j - 16\\right) \\phi_{8} \\right )} a_{8} + \\cos{\\left (\\left(2 j - 14\\right) \\phi_{1} \\right )} a_{7} + \\cos{\\left (\\left(2 j - 14\\right) \\phi_{2} \\right )} a_{7} + \\cos{\\left (\\left(2 j - 14\\right) \\phi_{3} \\right )} a_{7} + \\cos{\\left (\\left(2 j - 14\\right) \\phi_{4} \\right )} a_{7} + \\cos{\\left (\\left(2 j - 14\\right) \\phi_{5} \\right )} a_{7} + \\cos{\\left (\\left(2 j - 14\\right) \\phi_{6} \\right )} a_{7} + \\cos{\\left (\\left(2 j - 14\\right) \\phi_{7} \\right )} a_{7} + \\cos{\\left (\\left(2 j - 14\\right) \\phi_{8} \\right )} a_{7} + \\cos{\\left (\\left(2 j - 12\\right) \\phi_{1} \\right )} a_{6} + \\cos{\\left (\\left(2 j - 12\\right) \\phi_{2} \\right )} a_{6} + \\cos{\\left (\\left(2 j - 12\\right) \\phi_{3} \\right )} a_{6} + \\cos{\\left (\\left(2 j - 12\\right) \\phi_{4} \\right )} a_{6} + \\cos{\\left (\\left(2 j - 12\\right) \\phi_{5} \\right )} a_{6} + \\cos{\\left (\\left(2 j - 12\\right) \\phi_{6} \\right )} a_{6} + \\cos{\\left (\\left(2 j - 12\\right) \\phi_{7} \\right )} a_{6} + \\cos{\\left (\\left(2 j - 12\\right) \\phi_{8} \\right )} a_{6} + \\cos{\\left (\\left(2 j - 10\\right) \\phi_{1} \\right )} a_{5} + \\cos{\\left (\\left(2 j - 10\\right) \\phi_{2} \\right )} a_{5} + \\cos{\\left (\\left(2 j - 10\\right) \\phi_{3} \\right )} a_{5} + \\cos{\\left (\\left(2 j - 10\\right) \\phi_{4} \\right )} a_{5} + \\cos{\\left (\\left(2 j - 10\\right) \\phi_{5} \\right )} a_{5} + \\cos{\\left (\\left(2 j - 10\\right) \\phi_{6} \\right )} a_{5} + \\cos{\\left (\\left(2 j - 10\\right) \\phi_{7} \\right )} a_{5} + \\cos{\\left (\\left(2 j - 10\\right) \\phi_{8} \\right )} a_{5}$$"
      ],
      "text/plain": [
       "(cos((2⋅j - 8)⋅\\phi[1]) + cos((2⋅j - 8)⋅\\phi[2]) + cos((2⋅j - 8)⋅\\phi[3]) + co\n",
       "s((2⋅j - 8)⋅\\phi[4]) + cos((2⋅j - 8)⋅\\phi[5]) + cos((2⋅j - 8)⋅\\phi[6]) + cos((\n",
       "2⋅j - 8)⋅\\phi[7]) + cos((2⋅j - 8)⋅\\phi[8]))⋅a[4] + (cos((2⋅j - 6)⋅\\phi[1]) + c\n",
       "os((2⋅j - 6)⋅\\phi[2]) + cos((2⋅j - 6)⋅\\phi[3]) + cos((2⋅j - 6)⋅\\phi[4]) + cos(\n",
       "(2⋅j - 6)⋅\\phi[5]) + cos((2⋅j - 6)⋅\\phi[6]) + cos((2⋅j - 6)⋅\\phi[7]) + cos((2⋅\n",
       "j - 6)⋅\\phi[8]))⋅a[3] + (cos((2⋅j - 4)⋅\\phi[1]) + cos((2⋅j - 4)⋅\\phi[2]) + cos\n",
       "((2⋅j - 4)⋅\\phi[3]) + cos((2⋅j - 4)⋅\\phi[4]) + cos((2⋅j - 4)⋅\\phi[5]) + cos((2\n",
       "⋅j - 4)⋅\\phi[6]) + cos((2⋅j - 4)⋅\\phi[7]) + cos((2⋅j - 4)⋅\\phi[8]))⋅a[2] + (co\n",
       "s((2⋅j - 2)⋅\\phi[1]) + cos((2⋅j - 2)⋅\\phi[2]) + cos((2⋅j - 2)⋅\\phi[3]) + cos((\n",
       "2⋅j - 2)⋅\\phi[4]) + cos((2⋅j - 2)⋅\\phi[5]) + cos((2⋅j - 2)⋅\\phi[6]) + cos((2⋅j\n",
       " - 2)⋅\\phi[7]) + cos((2⋅j - 2)⋅\\phi[8]))⋅a[1] + cos((2⋅j - 20)⋅\\phi[1])⋅a[10] \n",
       "+ cos((2⋅j - 20)⋅\\phi[2])⋅a[10] + cos((2⋅j - 20)⋅\\phi[3])⋅a[10] + cos((2⋅j - 2\n",
       "0)⋅\\phi[4])⋅a[10] + cos((2⋅j - 20)⋅\\phi[5])⋅a[10] + cos((2⋅j - 20)⋅\\phi[6])⋅a[\n",
       "10] + cos((2⋅j - 20)⋅\\phi[7])⋅a[10] + cos((2⋅j - 20)⋅\\phi[8])⋅a[10] + cos((2⋅j\n",
       " - 18)⋅\\phi[1])⋅a[9] + cos((2⋅j - 18)⋅\\phi[2])⋅a[9] + cos((2⋅j - 18)⋅\\phi[3])⋅\n",
       "a[9] + cos((2⋅j - 18)⋅\\phi[4])⋅a[9] + cos((2⋅j - 18)⋅\\phi[5])⋅a[9] + cos((2⋅j \n",
       "- 18)⋅\\phi[6])⋅a[9] + cos((2⋅j - 18)⋅\\phi[7])⋅a[9] + cos((2⋅j - 18)⋅\\phi[8])⋅a\n",
       "[9] + cos((2⋅j - 16)⋅\\phi[1])⋅a[8] + cos((2⋅j - 16)⋅\\phi[2])⋅a[8] + cos((2⋅j -\n",
       " 16)⋅\\phi[3])⋅a[8] + cos((2⋅j - 16)⋅\\phi[4])⋅a[8] + cos((2⋅j - 16)⋅\\phi[5])⋅a[\n",
       "8] + cos((2⋅j - 16)⋅\\phi[6])⋅a[8] + cos((2⋅j - 16)⋅\\phi[7])⋅a[8] + cos((2⋅j - \n",
       "16)⋅\\phi[8])⋅a[8] + cos((2⋅j - 14)⋅\\phi[1])⋅a[7] + cos((2⋅j - 14)⋅\\phi[2])⋅a[7\n",
       "] + cos((2⋅j - 14)⋅\\phi[3])⋅a[7] + cos((2⋅j - 14)⋅\\phi[4])⋅a[7] + cos((2⋅j - 1\n",
       "4)⋅\\phi[5])⋅a[7] + cos((2⋅j - 14)⋅\\phi[6])⋅a[7] + cos((2⋅j - 14)⋅\\phi[7])⋅a[7]\n",
       " + cos((2⋅j - 14)⋅\\phi[8])⋅a[7] + cos((2⋅j - 12)⋅\\phi[1])⋅a[6] + cos((2⋅j - 12\n",
       ")⋅\\phi[2])⋅a[6] + cos((2⋅j - 12)⋅\\phi[3])⋅a[6] + cos((2⋅j - 12)⋅\\phi[4])⋅a[6] \n",
       "+ cos((2⋅j - 12)⋅\\phi[5])⋅a[6] + cos((2⋅j - 12)⋅\\phi[6])⋅a[6] + cos((2⋅j - 12)\n",
       "⋅\\phi[7])⋅a[6] + cos((2⋅j - 12)⋅\\phi[8])⋅a[6] + cos((2⋅j - 10)⋅\\phi[1])⋅a[5] +\n",
       " cos((2⋅j - 10)⋅\\phi[2])⋅a[5] + cos((2⋅j - 10)⋅\\phi[3])⋅a[5] + cos((2⋅j - 10)⋅\n",
       "\\phi[4])⋅a[5] + cos((2⋅j - 10)⋅\\phi[5])⋅a[5] + cos((2⋅j - 10)⋅\\phi[6])⋅a[5] + \n",
       "cos((2⋅j - 10)⋅\\phi[7])⋅a[5] + cos((2⋅j - 10)⋅\\phi[8])⋅a[5]"
      ]
     },
     "execution_count": 104,
     "metadata": {},
     "output_type": "execute_result"
    }
   ],
   "source": [
    "ea_lhs = sp.Sum(ea_lhs0,(p,1,8))\n",
    "eal = ea_lhs.doit().collect(a[1]).collect(a[2]).collect(a[3]).collect(a[4])\n",
    "sp.coll\n",
    "eal"
   ]
  },
  {
   "cell_type": "code",
   "execution_count": 86,
   "metadata": {},
   "outputs": [
    {
     "data": {
      "image/png": "[encoded data removed]",
      "text/latex": [
       "$$\\left(\\cos{\\left (\\left(2 j - 8\\right) \\phi_{1} \\right )} + \\cos{\\left (\\left(2 j - 8\\right) \\phi_{2} \\right )} + \\cos{\\left (\\left(2 j - 8\\right) \\phi_{3} \\right )} + \\cos{\\left (\\left(2 j - 8\\right) \\phi_{4} \\right )} + \\cos{\\left (\\left(2 j - 8\\right) \\phi_{5} \\right )} + \\cos{\\left (\\left(2 j - 8\\right) \\phi_{6} \\right )} + \\cos{\\left (\\left(2 j - 8\\right) \\phi_{7} \\right )} + \\cos{\\left (\\left(2 j - 8\\right) \\phi_{8} \\right )}\\right) a_{4}$$"
      ],
      "text/plain": [
       "(cos((2⋅j - 8)⋅\\phi[1]) + cos((2⋅j - 8)⋅\\phi[2]) + cos((2⋅j - 8)⋅\\phi[3]) + co\n",
       "s((2⋅j - 8)⋅\\phi[4]) + cos((2⋅j - 8)⋅\\phi[5]) + cos((2⋅j - 8)⋅\\phi[6]) + cos((\n",
       "2⋅j - 8)⋅\\phi[7]) + cos((2⋅j - 8)⋅\\phi[8]))⋅a[4]"
      ]
     },
     "execution_count": 86,
     "metadata": {},
     "output_type": "execute_result"
    }
   ],
   "source": [
    "(cos((2*j - 8)*phi[1]) + cos((2*j - 8)*phi[2]) + cos((2*j - 8)*phi[3]) + cos((2*j - 8)*phi[4]) + cos((2*j - 8)*phi[5]) + cos((2*j - 8)*phi[6]) + cos((2*j - 8)*phi[7]) + cos((2*j - 8)*phi[8]))*a[4]"
   ]
  },
  {
   "cell_type": "code",
   "execution_count": 105,
   "metadata": {},
   "outputs": [
    {
     "data": {
      "image/png": "[encoded data removed]",
      "text/latex": [
       "$$\\left(\\cos{\\left (2 \\phi_{1} \\right )} + \\cos{\\left (2 \\phi_{2} \\right )} + \\cos{\\left (2 \\phi_{3} \\right )} + \\cos{\\left (2 \\phi_{4} \\right )} + \\cos{\\left (2 \\phi_{5} \\right )} + \\cos{\\left (2 \\phi_{6} \\right )} + \\cos{\\left (2 \\phi_{7} \\right )} + \\cos{\\left (2 \\phi_{8} \\right )}\\right) a_{2} + \\left(\\cos{\\left (4 \\phi_{1} \\right )} + \\cos{\\left (4 \\phi_{2} \\right )} + \\cos{\\left (4 \\phi_{3} \\right )} + \\cos{\\left (4 \\phi_{4} \\right )} + \\cos{\\left (4 \\phi_{5} \\right )} + \\cos{\\left (4 \\phi_{6} \\right )} + \\cos{\\left (4 \\phi_{7} \\right )} + \\cos{\\left (4 \\phi_{8} \\right )}\\right) a_{3} + \\left(\\cos{\\left (6 \\phi_{1} \\right )} + \\cos{\\left (6 \\phi_{2} \\right )} + \\cos{\\left (6 \\phi_{3} \\right )} + \\cos{\\left (6 \\phi_{4} \\right )} + \\cos{\\left (6 \\phi_{5} \\right )} + \\cos{\\left (6 \\phi_{6} \\right )} + \\cos{\\left (6 \\phi_{7} \\right )} + \\cos{\\left (6 \\phi_{8} \\right )}\\right) a_{4} + \\cos{\\left (8 \\phi_{1} \\right )} a_{5} + \\cos{\\left (10 \\phi_{1} \\right )} a_{6} + \\cos{\\left (12 \\phi_{1} \\right )} a_{7} + \\cos{\\left (14 \\phi_{1} \\right )} a_{8} + \\cos{\\left (16 \\phi_{1} \\right )} a_{9} + \\cos{\\left (18 \\phi_{1} \\right )} a_{10} + \\cos{\\left (8 \\phi_{2} \\right )} a_{5} + \\cos{\\left (10 \\phi_{2} \\right )} a_{6} + \\cos{\\left (12 \\phi_{2} \\right )} a_{7} + \\cos{\\left (14 \\phi_{2} \\right )} a_{8} + \\cos{\\left (16 \\phi_{2} \\right )} a_{9} + \\cos{\\left (18 \\phi_{2} \\right )} a_{10} + \\cos{\\left (8 \\phi_{3} \\right )} a_{5} + \\cos{\\left (10 \\phi_{3} \\right )} a_{6} + \\cos{\\left (12 \\phi_{3} \\right )} a_{7} + \\cos{\\left (14 \\phi_{3} \\right )} a_{8} + \\cos{\\left (16 \\phi_{3} \\right )} a_{9} + \\cos{\\left (18 \\phi_{3} \\right )} a_{10} + \\cos{\\left (8 \\phi_{4} \\right )} a_{5} + \\cos{\\left (10 \\phi_{4} \\right )} a_{6} + \\cos{\\left (12 \\phi_{4} \\right )} a_{7} + \\cos{\\left (14 \\phi_{4} \\right )} a_{8} + \\cos{\\left (16 \\phi_{4} \\right )} a_{9} + \\cos{\\left (18 \\phi_{4} \\right )} a_{10} + \\cos{\\left (8 \\phi_{5} \\right )} a_{5} + \\cos{\\left (10 \\phi_{5} \\right )} a_{6} + \\cos{\\left (12 \\phi_{5} \\right )} a_{7} + \\cos{\\left (14 \\phi_{5} \\right )} a_{8} + \\cos{\\left (16 \\phi_{5} \\right )} a_{9} + \\cos{\\left (18 \\phi_{5} \\right )} a_{10} + \\cos{\\left (8 \\phi_{6} \\right )} a_{5} + \\cos{\\left (10 \\phi_{6} \\right )} a_{6} + \\cos{\\left (12 \\phi_{6} \\right )} a_{7} + \\cos{\\left (14 \\phi_{6} \\right )} a_{8} + \\cos{\\left (16 \\phi_{6} \\right )} a_{9} + \\cos{\\left (18 \\phi_{6} \\right )} a_{10} + \\cos{\\left (8 \\phi_{7} \\right )} a_{5} + \\cos{\\left (10 \\phi_{7} \\right )} a_{6} + \\cos{\\left (12 \\phi_{7} \\right )} a_{7} + \\cos{\\left (14 \\phi_{7} \\right )} a_{8} + \\cos{\\left (16 \\phi_{7} \\right )} a_{9} + \\cos{\\left (18 \\phi_{7} \\right )} a_{10} + \\cos{\\left (8 \\phi_{8} \\right )} a_{5} + \\cos{\\left (10 \\phi_{8} \\right )} a_{6} + \\cos{\\left (12 \\phi_{8} \\right )} a_{7} + \\cos{\\left (14 \\phi_{8} \\right )} a_{8} + \\cos{\\left (16 \\phi_{8} \\right )} a_{9} + \\cos{\\left (18 \\phi_{8} \\right )} a_{10} + 8 a_{1}$$"
      ],
      "text/plain": [
       "(cos(2⋅\\phi[1]) + cos(2⋅\\phi[2]) + cos(2⋅\\phi[3]) + cos(2⋅\\phi[4]) + cos(2⋅\\ph\n",
       "i[5]) + cos(2⋅\\phi[6]) + cos(2⋅\\phi[7]) + cos(2⋅\\phi[8]))⋅a[2] + (cos(4⋅\\phi[1\n",
       "]) + cos(4⋅\\phi[2]) + cos(4⋅\\phi[3]) + cos(4⋅\\phi[4]) + cos(4⋅\\phi[5]) + cos(4\n",
       "⋅\\phi[6]) + cos(4⋅\\phi[7]) + cos(4⋅\\phi[8]))⋅a[3] + (cos(6⋅\\phi[1]) + cos(6⋅\\p\n",
       "hi[2]) + cos(6⋅\\phi[3]) + cos(6⋅\\phi[4]) + cos(6⋅\\phi[5]) + cos(6⋅\\phi[6]) + c\n",
       "os(6⋅\\phi[7]) + cos(6⋅\\phi[8]))⋅a[4] + cos(8⋅\\phi[1])⋅a[5] + cos(10⋅\\phi[1])⋅a\n",
       "[6] + cos(12⋅\\phi[1])⋅a[7] + cos(14⋅\\phi[1])⋅a[8] + cos(16⋅\\phi[1])⋅a[9] + cos\n",
       "(18⋅\\phi[1])⋅a[10] + cos(8⋅\\phi[2])⋅a[5] + cos(10⋅\\phi[2])⋅a[6] + cos(12⋅\\phi[\n",
       "2])⋅a[7] + cos(14⋅\\phi[2])⋅a[8] + cos(16⋅\\phi[2])⋅a[9] + cos(18⋅\\phi[2])⋅a[10]\n",
       " + cos(8⋅\\phi[3])⋅a[5] + cos(10⋅\\phi[3])⋅a[6] + cos(12⋅\\phi[3])⋅a[7] + cos(14⋅\n",
       "\\phi[3])⋅a[8] + cos(16⋅\\phi[3])⋅a[9] + cos(18⋅\\phi[3])⋅a[10] + cos(8⋅\\phi[4])⋅\n",
       "a[5] + cos(10⋅\\phi[4])⋅a[6] + cos(12⋅\\phi[4])⋅a[7] + cos(14⋅\\phi[4])⋅a[8] + co\n",
       "s(16⋅\\phi[4])⋅a[9] + cos(18⋅\\phi[4])⋅a[10] + cos(8⋅\\phi[5])⋅a[5] + cos(10⋅\\phi\n",
       "[5])⋅a[6] + cos(12⋅\\phi[5])⋅a[7] + cos(14⋅\\phi[5])⋅a[8] + cos(16⋅\\phi[5])⋅a[9]\n",
       " + cos(18⋅\\phi[5])⋅a[10] + cos(8⋅\\phi[6])⋅a[5] + cos(10⋅\\phi[6])⋅a[6] + cos(12\n",
       "⋅\\phi[6])⋅a[7] + cos(14⋅\\phi[6])⋅a[8] + cos(16⋅\\phi[6])⋅a[9] + cos(18⋅\\phi[6])\n",
       "⋅a[10] + cos(8⋅\\phi[7])⋅a[5] + cos(10⋅\\phi[7])⋅a[6] + cos(12⋅\\phi[7])⋅a[7] + c\n",
       "os(14⋅\\phi[7])⋅a[8] + cos(16⋅\\phi[7])⋅a[9] + cos(18⋅\\phi[7])⋅a[10] + cos(8⋅\\ph\n",
       "i[8])⋅a[5] + cos(10⋅\\phi[8])⋅a[6] + cos(12⋅\\phi[8])⋅a[7] + cos(14⋅\\phi[8])⋅a[8\n",
       "] + cos(16⋅\\phi[8])⋅a[9] + cos(18⋅\\phi[8])⋅a[10] + 8⋅a[1]"
      ]
     },
     "execution_count": 105,
     "metadata": {},
     "output_type": "execute_result"
    }
   ],
   "source": [
    "eal.subs(j,1)"
   ]
  },
  {
   "cell_type": "code",
   "execution_count": 106,
   "metadata": {},
   "outputs": [],
   "source": [
    "sp.collect?"
   ]
  },
  {
   "cell_type": "code",
   "execution_count": null,
   "metadata": {},
   "outputs": [],
   "source": []
  }
 ],
 "metadata": {
  "kernelspec": {
   "display_name": "Python 3",
   "language": "python",
   "name": "python3"
  },
  "language_info": {
   "codemirror_mode": {
    "name": "ipython",
    "version": 3
   },
   "file_extension": ".py",
   "mimetype": "text/x-python",
   "name": "python",
   "nbconvert_exporter": "python",
   "pygments_lexer": "ipython3",
   "version": "3.6.4"
  }
 },
 "nbformat": 4,
 "nbformat_minor": 2
}
